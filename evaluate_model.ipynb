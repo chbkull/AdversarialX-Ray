{
 "cells": [
  {
   "cell_type": "code",
   "execution_count": 1,
   "metadata": {},
   "outputs": [],
   "source": [
    "import numpy as np\n",
    "import os\n",
    "import pandas as pd\n",
    "from sklearn.model_selection import train_test_split\n",
    "from src.dataset import ChestXrayDataSet, CLASS_NAMES\n",
    "from src.model import DenseNet121\n",
    "from src.utils import compute_AUCs, compute_score_with_logits, tile\n",
    "import torch\n",
    "import torch.backends.cudnn as cudnn\n",
    "import torch.nn as nn\n",
    "import torch.optim as optim\n",
    "from torch.utils.data import DataLoader\n",
    "import torchvision.transforms as transforms\n",
    "\n",
    "# Autoreload modules so that changes to src automatically reflect\n",
    "%load_ext autoreload\n",
    "%autoreload 2"
   ]
  },
  {
   "cell_type": "code",
   "execution_count": 2,
   "metadata": {},
   "outputs": [],
   "source": [
    "labels = pd.read_csv(\"data/labels/labels.csv\")\n",
    "size = 10000 # only using 10k out of the entire ~100k dataset\n",
    "X, Y = labels.iloc[:size, 0], labels.iloc[:size, 1]\n",
    "X_train, X_test, Y_train, Y_test = train_test_split(X, Y, test_size=0.4, random_state=42, shuffle=True)"
   ]
  },
  {
   "cell_type": "code",
   "execution_count": 3,
   "metadata": {},
   "outputs": [],
   "source": [
    "N_CLASSES = len(CLASS_NAMES)\n",
    "BATCH_SIZE = 16\n",
    "DATA_DIR = \"data/images\""
   ]
  },
  {
   "cell_type": "code",
   "execution_count": 4,
   "metadata": {},
   "outputs": [],
   "source": [
    "normalize = transforms.Normalize([0.485, 0.456, 0.406],[0.229, 0.224, 0.225])\n",
    "\n",
    "train_dataset = ChestXrayDataSet(data_dir=DATA_DIR, X = X_train, Y = Y_train,\n",
    "                          transform=transforms.Compose([\n",
    "                              transforms.Resize(256),\n",
    "                              transforms.TenCrop(224),\n",
    "                              transforms.Lambda(lambda crops: torch.stack([transforms.ToTensor()(crop) for crop in crops])),\n",
    "                              transforms.Lambda(lambda crops: torch.stack([normalize(crop) for crop in crops]))\n",
    "                              ]))\n",
    "\n",
    "# TODO: enable async data loading (num_workers > 0), pin_memory?\n",
    "train_loader = DataLoader(dataset=train_dataset, batch_size=BATCH_SIZE, shuffle=False, num_workers=0, pin_memory=True)\n",
    "\n",
    "test_dataset = ChestXrayDataSet(data_dir=DATA_DIR, X = X_test, Y = Y_test,\n",
    "                          transform=transforms.Compose([\n",
    "                              transforms.Resize(256),\n",
    "                              transforms.TenCrop(224),\n",
    "                              transforms.Lambda(lambda crops: torch.stack([transforms.ToTensor()(crop) for crop in crops])),\n",
    "                              transforms.Lambda(lambda crops: torch.stack([normalize(crop) for crop in crops]))\n",
    "                              ]))\n",
    "    \n",
    "test_loader = DataLoader(dataset=test_dataset, batch_size=BATCH_SIZE, shuffle=False, num_workers=0, pin_memory=True)"
   ]
  },
  {
   "cell_type": "code",
   "execution_count": 5,
   "metadata": {},
   "outputs": [
    {
     "name": "stdout",
     "output_type": "stream",
     "text": [
      "=> loading checkpoint\n",
      "=> loaded checkpoint\n"
     ]
    }
   ],
   "source": [
    "CKPT_TRAINED_PATH = \"model-trained.pth\" # Model trained on top of ^\n",
    "cudnn.benchmark = True # Fixed input size, enables tuning for optimal use\n",
    "\n",
    "# TODO: add device variable for use with gpu or cpu, place on device directly\n",
    "# initialize and load the model\n",
    "model = DenseNet121(N_CLASSES).cuda()\n",
    "model = torch.nn.DataParallel(model).cuda()\n",
    "\n",
    "if os.path.isfile(CKPT_TRAINED_PATH):\n",
    "    print(\"=> loading checkpoint\")\n",
    "    checkpoint = torch.load(CKPT_TRAINED_PATH)\n",
    "    # Load directly into the module else the model gets screwed up\n",
    "    # https://discuss.pytorch.org/t/solved-keyerror-unexpected-key-module-encoder-embedding-weight-in-state-dict/1686/15\n",
    "    model.module.load_state_dict(checkpoint, strict=True)\n",
    "    print(\"=> loaded checkpoint\")\n",
    "else:\n",
    "    print(\"=> no checkpoint found\")"
   ]
  },
  {
   "cell_type": "code",
   "execution_count": 6,
   "metadata": {},
   "outputs": [],
   "source": [
    "# initialize the ground truth and output tensor\n",
    "gt = torch.FloatTensor()\n",
    "pred = torch.FloatTensor()\n",
    "gt = gt.cuda()\n",
    "pred = pred.cuda()\n",
    "\n",
    "# switch to evaluate mode\n",
    "model.eval()\n",
    "\n",
    "for i, (inp, target) in enumerate(test_loader):\n",
    "    target = target.cuda()\n",
    "    gt = torch.cat((gt, target), 0)\n",
    "    bs, n_crops, c, h, w = inp.size()\n",
    "    with torch.no_grad():\n",
    "        input_var = torch.autograd.Variable(inp.view(-1, c, h, w).cuda())\n",
    "        output = model(input_var)\n",
    "        output_mean = output.view(bs, n_crops, -1).mean(1)\n",
    "        pred = torch.cat((pred, output_mean.data), 0)"
   ]
  },
  {
   "cell_type": "code",
   "execution_count": 7,
   "metadata": {},
   "outputs": [
    {
     "name": "stdout",
     "output_type": "stream",
     "text": [
      "The average AUROC is 0.757\n",
      "The AUROC of Atelectasis is 0.7432586132624253\n",
      "The AUROC of Cardiomegaly is 0.8725316190627218\n",
      "The AUROC of Effusion is 0.8372770326327436\n",
      "The AUROC of Infiltration is 0.6569252232142857\n",
      "The AUROC of Mass is 0.7753299402260756\n",
      "The AUROC of Nodule is 0.5887260034904014\n",
      "The AUROC of Pneumonia is 0.5739551703778678\n",
      "The AUROC of Pneumothorax is 0.8176415399145044\n",
      "The AUROC of Consolidation is 0.7404053527138116\n",
      "The AUROC of Edema is 0.8851814307972443\n",
      "The AUROC of Emphysema is 0.7911216287281194\n",
      "The AUROC of Fibrosis is 0.7338391191808459\n",
      "The AUROC of Pleural_Thickening is 0.6689639116169039\n",
      "The AUROC of Hernia is 0.9092731829573936\n"
     ]
    }
   ],
   "source": [
    "AUROCs = compute_AUCs(gt, pred, N_CLASSES)\n",
    "AUROC_avg = np.array(AUROCs).mean()\n",
    "print('The average AUROC is {AUROC_avg:.3f}'.format(AUROC_avg=AUROC_avg))\n",
    "for i in range(N_CLASSES):\n",
    "  print('The AUROC of {} is {}'.format(CLASS_NAMES[i], AUROCs[i]))"
   ]
  },
  {
   "cell_type": "code",
   "execution_count": null,
   "metadata": {},
   "outputs": [],
   "source": []
  }
 ],
 "metadata": {
  "kernelspec": {
   "display_name": "Python 3.9.15 ('venv': venv)",
   "language": "python",
   "name": "python3"
  },
  "language_info": {
   "codemirror_mode": {
    "name": "ipython",
    "version": 3
   },
   "file_extension": ".py",
   "mimetype": "text/x-python",
   "name": "python",
   "nbconvert_exporter": "python",
   "pygments_lexer": "ipython3",
   "version": "3.9.15"
  },
  "orig_nbformat": 4,
  "vscode": {
   "interpreter": {
    "hash": "35812f3549a68c0c80e102abdb5fbba8158579bbfb7e11bdbba8ac28992cc519"
   }
  }
 },
 "nbformat": 4,
 "nbformat_minor": 2
}
